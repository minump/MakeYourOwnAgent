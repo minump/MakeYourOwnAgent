{
 "cells": [
  {
   "cell_type": "code",
   "execution_count": null,
   "metadata": {},
   "outputs": [],
   "source": [
    "## RAG Hands-on tutorial\n",
    "\"\"\"\n",
    "Step 1: Vector Store\n",
    "Step 2: Search the vector store and retrieve relevant documents\n",
    "Step 3: Call LLM with the user query and the retrieved documents\n",
    "Step 4: Return the LLM response to the user\n",
    "\"\"\"\n"
   ]
  }
 ],
 "metadata": {
  "kernelspec": {
   "display_name": "Python 3",
   "language": "python",
   "name": "python3"
  },
  "language_info": {
   "name": "python",
   "version": "3.12.0"
  }
 },
 "nbformat": 4,
 "nbformat_minor": 2
}
