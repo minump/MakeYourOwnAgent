{
 "cells": [
  {
   "cell_type": "code",
   "execution_count": 105,
   "metadata": {},
   "outputs": [
    {
     "data": {
      "text/plain": [
       "'\\nStep 1: Vector Store\\nStep 2: Search the vector store and retrieve relevant documents\\nStep 3: Call LLM with the user query and the retrieved documents\\nStep 4: Return the LLM response to the user\\n'"
      ]
     },
     "execution_count": 105,
     "metadata": {},
     "output_type": "execute_result"
    }
   ],
   "source": [
    "## RAG Hands-on tutorial\n",
    "\"\"\"\n",
    "Step 1: Vector Store\n",
    "Step 2: Search the vector store and retrieve relevant documents\n",
    "Step 3: Call LLM with the user query and the retrieved documents\n",
    "Step 4: Return the LLM response to the user\n",
    "\"\"\"\n"
   ]
  },
  {
   "cell_type": "code",
   "execution_count": 106,
   "metadata": {},
   "outputs": [],
   "source": [
    "import os\n",
    "import json\n",
    "import logging\n",
    "import sys\n",
    "\n",
    "from dotenv import load_dotenv\n",
    "load_dotenv(override=True)\n",
    "\n",
    "# create and configure logger\n",
    "logging.basicConfig(level=logging.INFO, datefmt='%Y-%m-%dT%H:%M:%S',\n",
    "                    format='%(asctime)-15s.%(msecs)03dZ %(levelname)-7s : %(name)s - %(message)s',\n",
    "                    handlers=[logging.StreamHandler(sys.stdout)])\n",
    "# create log object with current module name\n",
    "log = logging.getLogger(__name__)"
   ]
  },
  {
   "cell_type": "code",
   "execution_count": null,
   "metadata": {},
   "outputs": [],
   "source": [
    "# data loaders\n",
    "from langchain_community.document_loaders import CSVLoader, DataFrameLoader, PyPDFLoader, Docx2txtLoader, UnstructuredRSTLoader, DirectoryLoader\n",
    "\n",
    "\n",
    "class DataLoaders:\n",
    "    \"\"\"\n",
    "    specify all data loaders here\n",
    "    \"\"\"\n",
    "    def __init__(self, data_dir_path):\n",
    "        self.data_dir_path = data_dir_path\n",
    "    \n",
    "    def csv_loader(self):\n",
    "        csv_loader_kwargs = {\n",
    "                            \"csv_args\":{\n",
    "                                \"delimiter\": \",\",\n",
    "                                \"quotechar\": '\"',\n",
    "                                },\n",
    "                            }\n",
    "        dir_csv_loader = DirectoryLoader(self.data_dir_path, glob=\"**/*.csv\", use_multithreading=True,\n",
    "                                    loader_cls=CSVLoader, \n",
    "                                    loader_kwargs=csv_loader_kwargs,\n",
    "                                    )\n",
    "        return dir_csv_loader\n",
    "    \n",
    "    def pdf_loader(self):\n",
    "        dir_pdf_loader = DirectoryLoader(self.data_dir_path, glob=\"**/*.pdf\",\n",
    "                                    loader_cls=PyPDFLoader,\n",
    "                                    )\n",
    "        return dir_pdf_loader\n",
    "    \n",
    "    def word_loader(self):\n",
    "        dir_word_loader = DirectoryLoader(self.data_dir_path, glob=\"**/*.docx\",\n",
    "                                    loader_cls=Docx2txtLoader,\n",
    "                                    )\n",
    "        return dir_word_loader\n",
    "    \n",
    "    def rst_loader(self):\n",
    "        rst_loader_kwargs = {\n",
    "                        \"mode\":\"single\"\n",
    "                        }\n",
    "        dir_rst_loader = DirectoryLoader(self.data_dir_path, glob=\"**/*.rst\",\n",
    "                                    loader_cls=UnstructuredRSTLoader, \n",
    "                                    loader_kwargs=rst_loader_kwargs\n",
    "                                    )\n",
    "        return dir_rst_loader\n",
    "    \n",
    "    \n",
    "    def get_text_metadatas(csv_data=None, pdf_data=None, word_data=None, rst_data=None):\n",
    "        \"\"\"\n",
    "        Format text and metadata content\n",
    "        \"\"\"\n",
    "        csv_texts = [doc.page_content for doc in csv_data]\n",
    "        csv_metadatas = [{'source': doc.metadata['source'], 'row_page': doc.metadata['row']} for doc in csv_data] # metadata={'source': 'filename.csv', 'row': 0}\n",
    "        pdf_texts = [doc.page_content for doc in pdf_data]\n",
    "        pdf_metadatas = [{'source': doc.metadata['source'], 'row_page': doc.metadata['page']} for doc in pdf_data]  # metadata={'source': 'data/filename.pdf', 'page': 8}\n",
    "        word_texts = [doc.page_content for doc in word_data]\n",
    "        word_metadatas = [{'source': doc.metadata['source'], 'row_page': ''} for doc in word_data] \n",
    "        rst_texts = [doc.page_content for doc in rst_data]\n",
    "        rst_metadatas = [{'source': doc.metadata['source'], 'row_page': ''} for doc in rst_data]         # metadata={'source': 'docs/images/architecture/index.rst'}\n",
    "        \n",
    "        for doc in pdf_data:\n",
    "            print(doc)\n",
    "            break\n",
    "\n",
    "        texts = csv_texts + pdf_texts + word_texts + rst_texts\n",
    "        metadatas = csv_metadatas + pdf_metadatas + word_metadatas + rst_metadatas\n",
    "        return texts, metadatas"
   ]
  },
  {
   "cell_type": "code",
   "execution_count": null,
   "metadata": {},
   "outputs": [
    {
     "name": "stderr",
     "output_type": "stream",
     "text": [
      "[WARNING] Reference not found for 'anaconda3' at /Users/minum/Documents/NCSA/ML/make-your-own-agent/MakeYourOwnAgent/docs_copy/software.rst line 169 column 45\n",
      "\n"
     ]
    }
   ],
   "source": [
    "# load data\n",
    "data_dir_path = os.getenv('DATA_DIR_PATH', \"data\")\n",
    "data_loader = DataLoaders(data_dir_path=data_dir_path)\n",
    "log.info(\"Loading files from directory %s\", data_dir_path)\n",
    "dir_csv_loader = data_loader.csv_loader()\n",
    "dir_word_loader = data_loader.word_loader()\n",
    "dir_pdf_loader = data_loader.pdf_loader()\n",
    "dir_rst_loader = data_loader.rst_loader()\n",
    "csv_data = dir_csv_loader.load()\n",
    "word_data = dir_word_loader.load()\n",
    "pdf_data = dir_pdf_loader.load()\n",
    "rst_data = dir_rst_loader.load()\n",
    "texts , metadatas = DataLoaders.get_text_metadatas(csv_data, pdf_data, word_data, rst_data)\n",
    "\n"
   ]
  },
  {
   "cell_type": "code",
   "execution_count": null,
   "metadata": {},
   "outputs": [],
   "source": [
    "from langchain.text_splitter import RecursiveCharacterTextSplitter\n",
    "from langchain.schema import Document\n",
    "from typing import List\n",
    "\n",
    "text_splitter = RecursiveCharacterTextSplitter.from_tiktoken_encoder(\n",
    "        chunk_size=1000,\n",
    "        chunk_overlap=200,\n",
    "        separators=[\n",
    "            \"\\n\\n\", \"\\n\", \". \", \" \", \"\"\n",
    "        ]  # try to split on paragraphs... fallback to sentences, then chars, ensure we always fit in context window\n",
    "    )\n",
    "\n",
    "docs: List[Document] = text_splitter.create_documents(texts=texts, metadatas=metadatas)\n"
   ]
  },
  {
   "cell_type": "code",
   "execution_count": null,
   "metadata": {},
   "outputs": [
    {
     "name": "stdout",
     "output_type": "stream",
     "text": [
      "page_content='Delta Login Methods\n",
      "\n",
      "Direct Access Login Nodes\n",
      "\n",
      "Direct access to the Delta login nodes is via SSH using your NCSA\n",
      "username, password, and NCSA Duo MFA. See the NCSA\n",
      "Allocation and Account Management page for links to NCSA Identity\n",
      "and NCSA Duo services. The login nodes provide access to the CPU and GPU\n",
      "resources on Delta.\n",
      "\n",
      "See NCSA\n",
      "Allocation and Account Management for the steps to change your NCSA\n",
      "password for direct access and set up NCSA Duo.\n",
      "\n",
      "For ACCESS awarded projects, to find your local NCSA username go to\n",
      "your ACCESS Profile\n",
      "page and scroll to the bottom for the Resource Provider Site\n",
      "Usernames table. If you do not know your NCSA username, submit\n",
      "a support request (help) for assistance.\n",
      "\n",
      "Warning\n",
      "\n",
      "In January 2024, Delta was upgraded to Slingshot11. Please use the\n",
      "round robin login, login.delta.ncsa.illinois.edu, to SSH into the\n",
      "system. For single host SSH, use dt-login03.delta.ncsa.illinois.edu or\n",
      "dt-login04.delta.ncsa.illinois.edu. See the ACCESS Delta Notice:\n",
      "Delta maintenance 01-23-2024 - 01-25-2024 for more details.\n",
      "\n",
      "Login Node Hostnames\n",
      "\n",
      "Login Node Hostname \n",
      " Description \n",
      " \n",
      " login.delta.ncsa.illinois.edu \n",
      " This is the preferred hostname . Alias that round robin logs\n",
      "into one of the two Delta login nodes. \n",
      " \n",
      " dt-login.delta.ncsa.illinois.edu \n",
      " Alias that round robin logs into one of the two Delta login\n",
      "nodes. \n",
      " \n",
      " dt-login03.delta.ncsa.illinois.edu \n",
      " One of the two Delta login nodes. \n",
      " \n",
      " dt-login04.delta.ncsa.illinois.edu \n",
      " One of the two Delta login nodes.\n",
      "\n",
      "SSH Examples\n",
      "\n",
      "In the examples below, replace username with your Delta\n",
      "login username.\n",
      "\n",
      "Round robin log into a login node\n",
      "ssh username@login.delta.ncsa.illinois.edu\n",
      "\n",
      "-l username is an alternative syntax for\n",
      "<user>@<host>\n",
      "ssh -l username login.delta.ncsa.illinois.edu\n",
      "\n",
      "-Y allows X11 forwarding from Linux hosts\n",
      "ssh -Y username@login.delta.ncsa.illinois.edu\n",
      "\n",
      "Use of SSH key pairs is disabled for general use. This means that\n",
      "most individual users, even PIs, are not allowed to use\n",
      "SSH key pairs to log in instead of 2-factor authentication.\n",
      "\n",
      "The one exception is: if you are the PI of a Gateway allocation (this\n",
      "is not most projects), then please submit a support request (help) to get the Gateway\n",
      "account's key pairs set up.\n",
      "\n",
      "Maintaining Persistent\n",
      "Sessions: tmux\n",
      "\n",
      "tmux is available on the login nodes to maintain persistent sessions.\n",
      "See the tmux man page for more information. After making note of the\n",
      "hostname, use the targeted login hostnames (dt-login01 or dt-login02) to\n",
      "attach to the login node where you started tmux. Avoid the round-robin\n",
      "hostname when using tmux.\n",
      "\n",
      "SSH Keyboard-Interactive\n",
      "\n",
      "For command line SSH clients, use the following settings if you have\n",
      "trouble logging in to Delta:\n",
      "\n",
      "Open OnDemand\n",
      "\n",
      "The general Open OnDemand interface to Delta is here: https://openondemand.delta.ncsa.illinois.edu/.\n",
      "\n",
      "An Open OnDemand shell interface is available at: https://openondemand.delta.ncsa.illinois.edu/pun/sys/shell/ssh/dt-login.\n",
      "\n",
      "VS Code\n",
      "\n",
      "See: Visual\n",
      "Studio Code, Remote ssh' metadata={'source': 'docs_copy/accessing.rst', 'row_page': ''}\n",
      "36\n"
     ]
    }
   ],
   "source": [
    "print(docs[0])\n",
    "print(len(docs))\n"
   ]
  },
  {
   "cell_type": "code",
   "execution_count": null,
   "metadata": {},
   "outputs": [
    {
     "name": "stdout",
     "output_type": "stream",
     "text": [
      "2024-08-05T11:34:49.587Z INFO    : httpx - HTTP Request: POST https://api.openai.com/v1/embeddings \"HTTP/1.1 200 OK\"\n",
      "2024-08-05T11:34:50.420Z INFO    : httpx - HTTP Request: POST https://api.openai.com/v1/embeddings \"HTTP/1.1 200 OK\"\n"
     ]
    }
   ],
   "source": [
    "from langchain_community.vectorstores import Qdrant\n",
    "from langchain_openai import OpenAIEmbeddings\n",
    "\n",
    "embeddings = OpenAIEmbeddings()\n",
    "collection_name = os.getenv('QDRANT_COLLECTION_NAME', \"data-collection\")\n",
    "\n",
    "# create vector Store\n",
    "vectorstore = Qdrant.from_documents(\n",
    "    documents=docs,\n",
    "    embedding=embeddings,\n",
    "    location=\":memory:\",  # Local mode with in-memory storage only\n",
    "    collection_name=collection_name,\n",
    "    )"
   ]
  },
  {
   "cell_type": "code",
   "execution_count": null,
   "metadata": {},
   "outputs": [],
   "source": [
    "from langchain import hub\n",
    "from langchain_openai import ChatOpenAI\n",
    "\n",
    "# Retrieve and generate using the relevant snippets\n",
    "retriever = vectorstore.as_retriever()\n",
    "prompt = hub.pull(\"rlm/rag-prompt\")\n",
    "llm: ChatOpenAI = ChatOpenAI(\n",
    "            temperature=0,\n",
    "            model=\"gpt-4o\",\n",
    "            max_retries=500,\n",
    "        )"
   ]
  },
  {
   "cell_type": "code",
   "execution_count": null,
   "metadata": {},
   "outputs": [],
   "source": [
    "from langchain_community.llms import Ollama\n",
    "\n",
    "ollama_api_key = os.getenv('OLLAMA_API_KEY')\n",
    "ollama_headers = {\"Authorization\": f\"Bearer {ollama_api_key}\"}\n",
    "ollamallm: Ollama = Ollama(\n",
    "    base_url=\"https://sd-gpu.ncsa.illinois.edu/ollama\",\n",
    "    model=\"llama3:latest\",\n",
    "    headers=ollama_headers,\n",
    "    )"
   ]
  },
  {
   "cell_type": "code",
   "execution_count": null,
   "metadata": {},
   "outputs": [
    {
     "data": {
      "text/plain": [
       "'There is no single \"capital of the world.\" The concept of a capital city typically refers to the seat of government for a country, state, or province. Each country has its own capital city, and there is no one city that serves as the capital of the entire world.\\n\\nHowever, there are a few cities that have been referred to as the \"capital of the world\" in various contexts:\\n\\n* The United Nations (UN) headquarters in New York City, USA, is often referred to as the \"capital of the world\" because it is the site where world leaders gather to discuss global issues and make important decisions.\\n* Geneva, Switzerland has been called the \"capital of the world\" due to its long history as a hub for international diplomacy, human rights organizations, and humanitarian work.\\n* Brussels, Belgium serves as the capital of the European Union (EU) and is often referred to as the \"capital of Europe\" because it is home to many EU institutions and agencies.\\n\\nIt\\'s worth noting that these cities are not formally recognized as the \"capital of the world,\" but rather serve as important centers for international cooperation and diplomacy.'"
      ]
     },
     "execution_count": 99,
     "metadata": {},
     "output_type": "execute_result"
    }
   ],
   "source": [
    "ollamallm.invoke(\"What is the capital of the world?\")"
   ]
  },
  {
   "cell_type": "code",
   "execution_count": null,
   "metadata": {},
   "outputs": [],
   "source": [
    "def format_docs(docs):\n",
    "    return \"\\n\\n\".join(doc.page_content for doc in docs)"
   ]
  },
  {
   "cell_type": "code",
   "execution_count": null,
   "metadata": {},
   "outputs": [],
   "source": [
    "from langchain_core.output_parsers import StrOutputParser\n",
    "from langchain_core.runnables import RunnablePassthrough\n",
    "\n",
    "openai_rag_chain = (\n",
    "    {\"context\": retriever | format_docs, \"question\": RunnablePassthrough()}\n",
    "    | prompt\n",
    "    | llm\n",
    "    | StrOutputParser()\n",
    ")"
   ]
  },
  {
   "cell_type": "code",
   "execution_count": null,
   "metadata": {},
   "outputs": [],
   "source": [
    "from langchain_core.output_parsers import StrOutputParser\n",
    "from langchain_core.runnables import RunnablePassthrough\n",
    "\n",
    "ollama_rag_chain = (\n",
    "    {\"context\": retriever | format_docs, \"question\": RunnablePassthrough()}\n",
    "    | prompt\n",
    "    | ollamallm\n",
    "    | StrOutputParser()\n",
    ")"
   ]
  },
  {
   "cell_type": "code",
   "execution_count": 104,
   "metadata": {},
   "outputs": [
    {
     "name": "stdout",
     "output_type": "stream",
     "text": [
      "2024-08-05T16:22:32.612Z INFO    : httpx - HTTP Request: POST https://api.openai.com/v1/embeddings \"HTTP/1.1 200 OK\"\n"
     ]
    },
    {
     "data": {
      "text/plain": [
       "'Delta appears to be a high-performance computing (HPC) system designed to help applications transition from CPU-only to GPU or hybrid CPU-GPU codes. It features multiple node types, including CPU-only and GPU nodes, with specific architectural details such as AMD CPUs, NVIDIA A100/A40 GPUs, and a HPE/Cray Slingshot interconnect.'"
      ]
     },
     "execution_count": 104,
     "metadata": {},
     "output_type": "execute_result"
    }
   ],
   "source": [
    "openai_rag_chain.invoke(\"What is Delta?\")\n",
    "\n"
   ]
  },
  {
   "cell_type": "code",
   "execution_count": 16,
   "metadata": {},
   "outputs": [
    {
     "name": "stdout",
     "output_type": "stream",
     "text": [
      "2024-08-05T11:39:43.576Z INFO    : httpx - HTTP Request: POST https://api.openai.com/v1/embeddings \"HTTP/1.1 200 OK\"\n",
      "2024-08-05T11:39:44.388Z INFO    : httpx - HTTP Request: POST https://api.openai.com/v1/chat/completions \"HTTP/1.1 200 OK\"\n"
     ]
    },
    {
     "data": {
      "text/plain": [
       "\"I don't know.\""
      ]
     },
     "execution_count": 16,
     "metadata": {},
     "output_type": "execute_result"
    }
   ],
   "source": [
    "ollama_rag_chain.invoke(\"Who is the president of USA?\")"
   ]
  },
  {
   "cell_type": "code",
   "execution_count": 17,
   "metadata": {},
   "outputs": [],
   "source": [
    "## adding sources\n",
    "from langchain_core.runnables import RunnableParallel\n",
    "\n",
    "openai_rag_chain_from_docs = (\n",
    "    RunnablePassthrough.assign(context=(lambda x: format_docs(x[\"context\"])))\n",
    "    | prompt\n",
    "    | llm\n",
    "    | StrOutputParser()\n",
    ")\n",
    "\n",
    "openai_rag_chain_with_source = RunnableParallel(\n",
    "    {\"context\": retriever, \"question\": RunnablePassthrough()}\n",
    ").assign(answer=openai_rag_chain_from_docs)"
   ]
  },
  {
   "cell_type": "code",
   "execution_count": 18,
   "metadata": {},
   "outputs": [
    {
     "name": "stdout",
     "output_type": "stream",
     "text": [
      "2024-08-05T11:40:01.412Z INFO    : httpx - HTTP Request: POST https://api.openai.com/v1/embeddings \"HTTP/1.1 200 OK\"\n",
      "2024-08-05T11:40:04.526Z INFO    : httpx - HTTP Request: POST https://api.openai.com/v1/chat/completions \"HTTP/1.1 200 OK\"\n"
     ]
    },
    {
     "data": {
      "text/plain": [
       "{'context': [Document(metadata={'source': 'docs_copy/acknowledge.rst', 'row_page': '', '_id': '51435aea3cdb48cfaf92d1d19ebeb420', '_collection_name': 'delta-collection'}, page_content='Acknowledging Delta\\n\\nSee Delta\\nCitations for information on how to properly acknowledge the NCSA\\nDelta system or Delta Project/NCSA Staff.\\n\\nSee Acknowledging\\nACCESS for information on how to properly acknowledge ACCESS.'),\n",
       "  Document(metadata={'source': 'docs_copy/architecture.rst', 'row_page': '', '_id': 'ae4cc6f4c73740afb16a4b4b35da2abd', '_collection_name': 'delta-collection'}, page_content='System Architecture\\n\\nDelta is designed to help applications transition from CPU-only to\\nGPU or hybrid CPU-GPU codes. Delta has some important architectural\\nfeatures to facilitate new discovery and insight:\\n\\nA single processor architecture (AMD) across all node types: CPU and\\nGPU\\n\\nSupport for NVIDIA A100 MIG GPU partitioning, allowing for\\nfractional use of the A100s if your workload is not able to exploit an\\nentire A100 efficiently\\n\\nRaytracing hardware support from the NVIDIA A40 GPUs\\n\\nNine large memory (2 TB) nodes\\n\\nA low latency and high bandwidth HPE/Cray Slingshot interconnect\\nbetween compute nodes\\n\\nLustre for home, projects, and scratch file systems\\n\\nSupport for relaxed and non-POSIX I/O (feature not yet\\nimplemented)\\n\\nShared-node jobs and the single core and single MIG GPU slice\\n\\nResources for persistent services in support of Gateways, Open\\nOnDemand, and Data Transport nodes\\n\\nUnique AMD MI100 resource\\n\\nModel Compute Nodes\\n\\nThe Delta compute ecosystem is composed of five node types:\\n\\nDual-socket, CPU-only compute nodes\\n\\nSingle socket, 4-way NVIDIA A100 GPU compute nodes\\n\\nSingle socket, 4-way NVIDIA A40 GPU compute nodes\\n\\nDual-socket, 8-way NVIDIA A100 GPU compute nodes\\n\\nSingle socket, 8-way AMD MI100 GPU compute nodes\\n\\nThe CPU-only and 4-way GPU nodes have 256 GB of\\nRAM per node; the 8-way GPU nodes have 2 TB of RAM.\\n\\nThe CPU-only node has 0.74 TB of local storage; all GPU nodes have 1.5\\nTB of local storage.\\n\\nEach socket contains an AMD 7763 processor. Consistent with AMD\\'s\\nadvice for HPC nodes and NCSA\\'s testing, all Delta nodes have\\nSimultaneous Multi Treading (SMT) turned off.\\n\\nCPU Compute Node\\nSpecifications\\n\\nSpecification \\n Value \\n \\n Number of nodes \\n 132 \\n \\n CPU \\n AMD EPYC 7763 \"Milan\" (PCIe Gen4) \\n \\n Sockets per node \\n 2 \\n \\n Cores per socket \\n 64 \\n \\n Cores per node \\n 128 \\n \\n Hardware threads per core \\n 1 \\n \\n Hardware threads per node \\n 128 \\n \\n Clock rate (GHz) \\n ~ 2.45 \\n \\n RAM (GB) \\n 256 \\n \\n Cache (KB) L1/L2/L3 \\n 64/512/32768 \\n \\n Local storage (TB) \\n 0.74 TB\\n\\nThe AMD CPUs are set for 4 NUMA domains per socket (NPS=4).\\n\\n4-Way NVIDIA A40\\nGPU Compute Node Specifications\\n\\nSpecification \\n Value \\n \\n Number of nodes \\n 100 \\n \\n GPU \\n NVIDIA A40 ( Vendor page\\n<https://www.nvidi\\na.com/en-us/data-center/a40/#specs> __) \\n \\n GPUs per node \\n 4 \\n \\n GPU Memory (GB) \\n 48 DDR6 with ECC \\n \\n CPU \\n AMD Milan \\n \\n CPU sockets per node \\n 1 \\n \\n Cores per socket \\n 64 \\n \\n Cores per node \\n 64 \\n \\n Hardware threads per core \\n 1 (SMT off) \\n \\n Hardware threads per node \\n 64 \\n \\n Clock rate (GHz) \\n ~ 2.45 \\n \\n RAM (GB) \\n 256 \\n \\n Cache (KB) L1/L2/L3 \\n 64/512/32768 \\n \\n Local storage (TB) \\n 1.5 TB\\n\\nThe AMD CPUs are set for 4 NUMA domains per socket (NPS=4).\\n\\n4-Way NVIDIA\\nA40 Mapping and GPU-CPU Affinitization\\n\\nThe A40 GPUs are connected via PCIe Gen4 and have the following\\naffinitization to NUMA nodes on the CPU. Note that the relationship\\nbetween GPU index and NUMA domain is inverse.'),\n",
       "  Document(metadata={'source': 'docs_copy/citizenship.rst', 'row_page': '', '_id': 'ed5eb6a62bde4b8ba249a7dab72d2196', '_collection_name': 'delta-collection'}, page_content='Good Cluster Citizenship\\n\\nYou share Delta with thousands of other users. What\\nyou do on the system affects others. Exercise good citizenship to ensure\\nyour activity does not adversely impact the system and the research\\ncommunity with whom you share it. Here are some rules of thumb:\\n\\nDo not run production jobs on the login nodes (very short time debug\\ntests are fine).\\n\\nDo not stress file systems with known-harmful access patterns (many\\nthousands of small files in a single directory).\\n\\nIf you encounter an issue, submit an informative support request\\n(help); include the\\nloaded modules (module list) and stdout/stderr messages in your\\nemail.'),\n",
       "  Document(metadata={'source': 'docs_copy/accessing.rst', 'row_page': '', '_id': '639a749c6dba43dc8992107fa769ebda', '_collection_name': 'delta-collection'}, page_content=\"Delta Login Methods\\n\\nDirect Access Login Nodes\\n\\nDirect access to the Delta login nodes is via SSH using your NCSA\\nusername, password, and NCSA Duo MFA. See the NCSA\\nAllocation and Account Management page for links to NCSA Identity\\nand NCSA Duo services. The login nodes provide access to the CPU and GPU\\nresources on Delta.\\n\\nSee NCSA\\nAllocation and Account Management for the steps to change your NCSA\\npassword for direct access and set up NCSA Duo.\\n\\nFor ACCESS awarded projects, to find your local NCSA username go to\\nyour ACCESS Profile\\npage and scroll to the bottom for the Resource Provider Site\\nUsernames table. If you do not know your NCSA username, submit\\na support request (help) for assistance.\\n\\nWarning\\n\\nIn January 2024, Delta was upgraded to Slingshot11. Please use the\\nround robin login, login.delta.ncsa.illinois.edu, to SSH into the\\nsystem. For single host SSH, use dt-login03.delta.ncsa.illinois.edu or\\ndt-login04.delta.ncsa.illinois.edu. See the ACCESS Delta Notice:\\nDelta maintenance 01-23-2024 - 01-25-2024 for more details.\\n\\nLogin Node Hostnames\\n\\nLogin Node Hostname \\n Description \\n \\n login.delta.ncsa.illinois.edu \\n This is the preferred hostname . Alias that round robin logs\\ninto one of the two Delta login nodes. \\n \\n dt-login.delta.ncsa.illinois.edu \\n Alias that round robin logs into one of the two Delta login\\nnodes. \\n \\n dt-login03.delta.ncsa.illinois.edu \\n One of the two Delta login nodes. \\n \\n dt-login04.delta.ncsa.illinois.edu \\n One of the two Delta login nodes.\\n\\nSSH Examples\\n\\nIn the examples below, replace username with your Delta\\nlogin username.\\n\\nRound robin log into a login node\\nssh username@login.delta.ncsa.illinois.edu\\n\\n-l username is an alternative syntax for\\n<user>@<host>\\nssh -l username login.delta.ncsa.illinois.edu\\n\\n-Y allows X11 forwarding from Linux hosts\\nssh -Y username@login.delta.ncsa.illinois.edu\\n\\nUse of SSH key pairs is disabled for general use. This means that\\nmost individual users, even PIs, are not allowed to use\\nSSH key pairs to log in instead of 2-factor authentication.\\n\\nThe one exception is: if you are the PI of a Gateway allocation (this\\nis not most projects), then please submit a support request (help) to get the Gateway\\naccount's key pairs set up.\\n\\nMaintaining Persistent\\nSessions: tmux\\n\\ntmux is available on the login nodes to maintain persistent sessions.\\nSee the tmux man page for more information. After making note of the\\nhostname, use the targeted login hostnames (dt-login01 or dt-login02) to\\nattach to the login node where you started tmux. Avoid the round-robin\\nhostname when using tmux.\\n\\nSSH Keyboard-Interactive\\n\\nFor command line SSH clients, use the following settings if you have\\ntrouble logging in to Delta:\\n\\nOpen OnDemand\\n\\nThe general Open OnDemand interface to Delta is here: https://openondemand.delta.ncsa.illinois.edu/.\\n\\nAn Open OnDemand shell interface is available at: https://openondemand.delta.ncsa.illinois.edu/pun/sys/shell/ssh/dt-login.\\n\\nVS Code\\n\\nSee: Visual\\nStudio Code, Remote ssh\")],\n",
       " 'question': 'What is Delta?',\n",
       " 'answer': \"Delta is a high-performance computing system designed to help applications transition from CPU-only to GPU or hybrid CPU-GPU codes. It features a single processor architecture (AMD) across all node types, support for NVIDIA A100 MIG GPU partitioning, and a low latency, high bandwidth HPE/Cray Slingshot interconnect. Delta's compute ecosystem includes various node types, such as CPU-only nodes and multiple configurations of GPU nodes.\"}"
      ]
     },
     "execution_count": 18,
     "metadata": {},
     "output_type": "execute_result"
    }
   ],
   "source": [
    "openai_rag_chain_with_source.invoke(\"What is Delta?\")"
   ]
  }
 ],
 "metadata": {
  "kernelspec": {
   "display_name": "Python 3",
   "language": "python",
   "name": "python3"
  },
  "language_info": {
   "codemirror_mode": {
    "name": "ipython",
    "version": 3
   },
   "file_extension": ".py",
   "mimetype": "text/x-python",
   "name": "python",
   "nbconvert_exporter": "python",
   "pygments_lexer": "ipython3",
   "version": "3.12.0"
  }
 },
 "nbformat": 4,
 "nbformat_minor": 2
}
